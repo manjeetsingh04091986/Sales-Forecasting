{
 "cells": [
  {
   "cell_type": "code",
   "execution_count": 205,
   "metadata": {},
   "outputs": [],
   "source": [
    "\n"
   ]
  },
  {
   "cell_type": "code",
   "execution_count": 206,
   "metadata": {},
   "outputs": [],
   "source": [
    "sales =pd.read_csv('C:/Users/msingh/Desktop/sales_test.csv')\n",
    "cancel =pd.read_csv('C:/Users/msingh/Desktop/canceled_test.csv')"
   ]
  },
  {
   "cell_type": "code",
   "execution_count": 234,
   "metadata": {},
   "outputs": [],
   "source": [
    "def ABC_segmentation(perc):\n",
    "    if perc > 0 and perc < 0.80:\n",
    "        return 'A'\n",
    "    elif perc >= 0.8 and perc < 0.95:\n",
    "        return 'B'\n",
    "    elif perc >= 0.95:\n",
    "        return 'C'"
   ]
  },
  {
   "cell_type": "code",
   "execution_count": 237,
   "metadata": {},
   "outputs": [],
   "source": [
    "Groupby_qty = sales['Order Qty'].groupby(sales['Item Code'], sort = True).sum()\n",
    "Value_Series = pd.DataFrame(Groupby_qty.sort_values(ascending  = False))\n",
    "Value_Series = Value_Series.cumsum()/Value_Series.sum()\n",
    "cumsumavg =  [x[0] for x in Value_Series.values.tolist()]\n",
    "#sales[class] = sales[Value_Series].apply(ABC_segmentation)\n",
    "classified = pd.DataFrame([\"A\" if x[0] < 0.8 else \"B\" if ((x[0] > 0.8) and (x[0] < 0.95)) else \"C\" for x in Value_Series.values.tolist()])"
   ]
  },
  {
   "cell_type": "code",
   "execution_count": 238,
   "metadata": {},
   "outputs": [],
   "source": [
    "classified.index = Value_Series.index\n",
    "classified.columns = ['value']"
   ]
  },
  {
   "cell_type": "code",
   "execution_count": 239,
   "metadata": {},
   "outputs": [
    {
     "name": "stdout",
     "output_type": "stream",
     "text": [
      "          value\n",
      "Item Code      \n",
      "10098739      A\n",
      "111931        A\n",
      "1041106       A\n",
      "1040765       A\n",
      "110441        A\n"
     ]
    }
   ],
   "source": [
    "print(classified.head())\n"
   ]
  },
  {
   "cell_type": "code",
   "execution_count": 244,
   "metadata": {},
   "outputs": [
    {
     "data": {
      "text/plain": [
       "<matplotlib.axes._subplots.AxesSubplot at 0x2254dafee10>"
      ]
     },
     "execution_count": 244,
     "metadata": {},
     "output_type": "execute_result"
    },
    {
     "data": {
      "image/png": "[encoded data removed]",
      "text/plain": [
       "<Figure size 1440x720 with 1 Axes>"
      ]
     },
     "metadata": {},
     "output_type": "display_data"
    }
   ],
   "source": [
    "classified['value'].value_counts().plot(kind='bar')"
   ]
  },
  {
   "cell_type": "code",
   "execution_count": 235,
   "metadata": {},
   "outputs": [
    {
     "data": {
      "text/plain": [
       "827      A\n",
       "10493    A\n",
       "22125    A\n",
       "10492    A\n",
       "955      A\n",
       "        ..\n",
       "14101    C\n",
       "14100    C\n",
       "14098    C\n",
       "14096    C\n",
       "14157    C\n",
       "Name: Perc, Length: 28315, dtype: object"
      ]
     },
     "execution_count": 235,
     "metadata": {},
     "output_type": "execute_result"
    }
   ],
   "source": [
    "data_sub['Perc'].apply(ABC_segmentation)"
   ]
  },
  {
   "cell_type": "code",
   "execution_count": 236,
   "metadata": {},
   "outputs": [
    {
     "data": {
      "text/plain": [
       "B    13628\n",
       "C    10758\n",
       "A     3929\n",
       "Name: Class, dtype: int64"
      ]
     },
     "execution_count": 236,
     "metadata": {},
     "output_type": "execute_result"
    }
   ],
   "source": [
    "data_sub.Class.value_counts()"
   ]
  },
  {
   "cell_type": "code",
   "execution_count": 208,
   "metadata": {},
   "outputs": [],
   "source": [
    "# take a subset of the data, we need to use the price and the quantity of each item\n",
    "sales['cancelled'] = cancel['Quantity Canceled']\n",
    "sales = sales.fillna(0)\n",
    "daily.plot()"
   ]
  },
  {
   "cell_type": "code",
   "execution_count": 211,
   "metadata": {},
   "outputs": [],
   "source": [
    "data_sub = sales[['Order No','Order Date','Ship To Address No','Item Code','Quantity Shipped','cancelled']]"
   ]
  },
  {
   "cell_type": "code",
   "execution_count": 212,
   "metadata": {},
   "outputs": [
    {
     "name": "stderr",
     "output_type": "stream",
     "text": [
      "C:\\Users\\msingh\\AppData\\Local\\Continuum\\anaconda3\\lib\\site-packages\\ipykernel_launcher.py:1: SettingWithCopyWarning: \n",
      "A value is trying to be set on a copy of a slice from a DataFrame.\n",
      "Try using .loc[row_indexer,col_indexer] = value instead\n",
      "\n",
      "See the caveats in the documentation: http://pandas.pydata.org/pandas-docs/stable/user_guide/indexing.html#returning-a-view-versus-a-copy\n",
      "  \"\"\"Entry point for launching an IPython kernel.\n"
     ]
    }
   ],
   "source": [
    "data_sub['Total'] = data_sub['Quantity Shipped'] + data_sub['cancelled']"
   ]
  },
  {
   "cell_type": "code",
   "execution_count": 214,
   "metadata": {},
   "outputs": [],
   "source": [
    "data_sub = data_sub.sort_values(by=['Total'], ascending=False)"
   ]
  },
  {
   "cell_type": "code",
   "execution_count": 215,
   "metadata": {},
   "outputs": [],
   "source": [
    "data_sub['RunCumCost'] = data_sub['Total'].cumsum()"
   ]
  },
  {
   "cell_type": "code",
   "execution_count": 216,
   "metadata": {},
   "outputs": [],
   "source": [
    "data_sub['Grand'] = data_sub['Total'].sum()"
   ]
  },
  {
   "cell_type": "code",
   "execution_count": 218,
   "metadata": {},
   "outputs": [],
   "source": [
    "data_sub['Perc'] =  data_sub['RunCumCost']/data_sub['Grand']"
   ]
  },
  {
   "cell_type": "code",
   "execution_count": 219,
   "metadata": {},
   "outputs": [
    {
     "data": {
      "text/html": [
       "<div>\n",
       "<style scoped>\n",
       "    .dataframe tbody tr th:only-of-type {\n",
       "        vertical-align: middle;\n",
       "    }\n",
       "\n",
       "    .dataframe tbody tr th {\n",
       "        vertical-align: top;\n",
       "    }\n",
       "\n",
       "    .dataframe thead th {\n",
       "        text-align: right;\n",
       "    }\n",
       "</style>\n",
       "<table border=\"1\" class=\"dataframe\">\n",
       "  <thead>\n",
       "    <tr style=\"text-align: right;\">\n",
       "      <th></th>\n",
       "      <th>Order No</th>\n",
       "      <th>Order Date</th>\n",
       "      <th>Ship To Address No</th>\n",
       "      <th>Item Code</th>\n",
       "      <th>Quantity Shipped</th>\n",
       "      <th>cancelled</th>\n",
       "      <th>Total</th>\n",
       "      <th>RunCumCost</th>\n",
       "      <th>Grand</th>\n",
       "      <th>Perc</th>\n",
       "    </tr>\n",
       "  </thead>\n",
       "  <tbody>\n",
       "    <tr>\n",
       "      <th>827</th>\n",
       "      <td>529278</td>\n",
       "      <td>2017-01-04</td>\n",
       "      <td>1850371.0</td>\n",
       "      <td>1040776</td>\n",
       "      <td>1.0</td>\n",
       "      <td>4500.0</td>\n",
       "      <td>4501.0</td>\n",
       "      <td>4501.0</td>\n",
       "      <td>215148.0</td>\n",
       "      <td>0.020920</td>\n",
       "    </tr>\n",
       "    <tr>\n",
       "      <th>10493</th>\n",
       "      <td>534342</td>\n",
       "      <td>2017-01-25</td>\n",
       "      <td>1795849.0</td>\n",
       "      <td>111931</td>\n",
       "      <td>2000.0</td>\n",
       "      <td>0.0</td>\n",
       "      <td>2000.0</td>\n",
       "      <td>6501.0</td>\n",
       "      <td>215148.0</td>\n",
       "      <td>0.030216</td>\n",
       "    </tr>\n",
       "    <tr>\n",
       "      <th>22125</th>\n",
       "      <td>540534</td>\n",
       "      <td>2017-02-16</td>\n",
       "      <td>1795849.0</td>\n",
       "      <td>111931</td>\n",
       "      <td>2000.0</td>\n",
       "      <td>0.0</td>\n",
       "      <td>2000.0</td>\n",
       "      <td>8501.0</td>\n",
       "      <td>215148.0</td>\n",
       "      <td>0.039512</td>\n",
       "    </tr>\n",
       "    <tr>\n",
       "      <th>10492</th>\n",
       "      <td>534341</td>\n",
       "      <td>2017-01-25</td>\n",
       "      <td>1795849.0</td>\n",
       "      <td>111931</td>\n",
       "      <td>2000.0</td>\n",
       "      <td>0.0</td>\n",
       "      <td>2000.0</td>\n",
       "      <td>10501.0</td>\n",
       "      <td>215148.0</td>\n",
       "      <td>0.048808</td>\n",
       "    </tr>\n",
       "    <tr>\n",
       "      <th>955</th>\n",
       "      <td>529334</td>\n",
       "      <td>2017-01-04</td>\n",
       "      <td>1265546.0</td>\n",
       "      <td>1033341</td>\n",
       "      <td>1.0</td>\n",
       "      <td>1800.0</td>\n",
       "      <td>1801.0</td>\n",
       "      <td>12302.0</td>\n",
       "      <td>215148.0</td>\n",
       "      <td>0.057179</td>\n",
       "    </tr>\n",
       "    <tr>\n",
       "      <th>...</th>\n",
       "      <td>...</td>\n",
       "      <td>...</td>\n",
       "      <td>...</td>\n",
       "      <td>...</td>\n",
       "      <td>...</td>\n",
       "      <td>...</td>\n",
       "      <td>...</td>\n",
       "      <td>...</td>\n",
       "      <td>...</td>\n",
       "      <td>...</td>\n",
       "    </tr>\n",
       "    <tr>\n",
       "      <th>14101</th>\n",
       "      <td>536347</td>\n",
       "      <td>2017-02-03</td>\n",
       "      <td>1353098.0</td>\n",
       "      <td>1040774</td>\n",
       "      <td>1.0</td>\n",
       "      <td>0.0</td>\n",
       "      <td>1.0</td>\n",
       "      <td>215144.0</td>\n",
       "      <td>215148.0</td>\n",
       "      <td>0.999981</td>\n",
       "    </tr>\n",
       "    <tr>\n",
       "      <th>14100</th>\n",
       "      <td>536346</td>\n",
       "      <td>2017-02-03</td>\n",
       "      <td>1353114.0</td>\n",
       "      <td>1041105</td>\n",
       "      <td>1.0</td>\n",
       "      <td>0.0</td>\n",
       "      <td>1.0</td>\n",
       "      <td>215145.0</td>\n",
       "      <td>215148.0</td>\n",
       "      <td>0.999986</td>\n",
       "    </tr>\n",
       "    <tr>\n",
       "      <th>14098</th>\n",
       "      <td>536346</td>\n",
       "      <td>2017-02-03</td>\n",
       "      <td>1353114.0</td>\n",
       "      <td>1040776</td>\n",
       "      <td>1.0</td>\n",
       "      <td>0.0</td>\n",
       "      <td>1.0</td>\n",
       "      <td>215146.0</td>\n",
       "      <td>215148.0</td>\n",
       "      <td>0.999991</td>\n",
       "    </tr>\n",
       "    <tr>\n",
       "      <th>14096</th>\n",
       "      <td>536346</td>\n",
       "      <td>2017-02-03</td>\n",
       "      <td>1353114.0</td>\n",
       "      <td>1038323</td>\n",
       "      <td>1.0</td>\n",
       "      <td>0.0</td>\n",
       "      <td>1.0</td>\n",
       "      <td>215147.0</td>\n",
       "      <td>215148.0</td>\n",
       "      <td>0.999995</td>\n",
       "    </tr>\n",
       "    <tr>\n",
       "      <th>14157</th>\n",
       "      <td>536359</td>\n",
       "      <td>2017-02-03</td>\n",
       "      <td>1779624.0</td>\n",
       "      <td>1038323</td>\n",
       "      <td>1.0</td>\n",
       "      <td>0.0</td>\n",
       "      <td>1.0</td>\n",
       "      <td>215148.0</td>\n",
       "      <td>215148.0</td>\n",
       "      <td>1.000000</td>\n",
       "    </tr>\n",
       "  </tbody>\n",
       "</table>\n",
       "<p>28315 rows × 10 columns</p>\n",
       "</div>"
      ],
      "text/plain": [
       "       Order No  Order Date  Ship To Address No  Item Code  Quantity Shipped  \\\n",
       "827      529278  2017-01-04           1850371.0    1040776               1.0   \n",
       "10493    534342  2017-01-25           1795849.0     111931            2000.0   \n",
       "22125    540534  2017-02-16           1795849.0     111931            2000.0   \n",
       "10492    534341  2017-01-25           1795849.0     111931            2000.0   \n",
       "955      529334  2017-01-04           1265546.0    1033341               1.0   \n",
       "...         ...         ...                 ...        ...               ...   \n",
       "14101    536347  2017-02-03           1353098.0    1040774               1.0   \n",
       "14100    536346  2017-02-03           1353114.0    1041105               1.0   \n",
       "14098    536346  2017-02-03           1353114.0    1040776               1.0   \n",
       "14096    536346  2017-02-03           1353114.0    1038323               1.0   \n",
       "14157    536359  2017-02-03           1779624.0    1038323               1.0   \n",
       "\n",
       "       cancelled   Total  RunCumCost     Grand      Perc  \n",
       "827       4500.0  4501.0      4501.0  215148.0  0.020920  \n",
       "10493        0.0  2000.0      6501.0  215148.0  0.030216  \n",
       "22125        0.0  2000.0      8501.0  215148.0  0.039512  \n",
       "10492        0.0  2000.0     10501.0  215148.0  0.048808  \n",
       "955       1800.0  1801.0     12302.0  215148.0  0.057179  \n",
       "...          ...     ...         ...       ...       ...  \n",
       "14101        0.0     1.0    215144.0  215148.0  0.999981  \n",
       "14100        0.0     1.0    215145.0  215148.0  0.999986  \n",
       "14098        0.0     1.0    215146.0  215148.0  0.999991  \n",
       "14096        0.0     1.0    215147.0  215148.0  0.999995  \n",
       "14157        0.0     1.0    215148.0  215148.0  1.000000  \n",
       "\n",
       "[28315 rows x 10 columns]"
      ]
     },
     "execution_count": 219,
     "metadata": {},
     "output_type": "execute_result"
    }
   ],
   "source": [
    "data_sub"
   ]
  },
  {
   "cell_type": "code",
   "execution_count": 221,
   "metadata": {},
   "outputs": [],
   "source": [
    "data_sub['Class'] = data_sub['Perc'].apply(ABC_segmentation)"
   ]
  },
  {
   "cell_type": "code",
   "execution_count": 224,
   "metadata": {},
   "outputs": [
    {
     "data": {
      "text/plain": [
       "B    13628\n",
       "C    10758\n",
       "A     3929\n",
       "Name: Class, dtype: int64"
      ]
     },
     "execution_count": 224,
     "metadata": {},
     "output_type": "execute_result"
    }
   ],
   "source": [
    "# total SKUs for each class\n",
    "data_sub.Class.value_counts()"
   ]
  },
  {
   "cell_type": "code",
   "execution_count": 180,
   "metadata": {},
   "outputs": [
    {
     "data": {
      "text/plain": [
       "Order No              0\n",
       "Order Date            0\n",
       "Line No               0\n",
       "Ship To Address No    0\n",
       "Item Code             0\n",
       "Order Qty             0\n",
       "Quantity Shipped      0\n",
       "dtype: int64"
      ]
     },
     "execution_count": 180,
     "metadata": {},
     "output_type": "execute_result"
    }
   ],
   "source": [
    "sales.isnull().sum(axis = 0)"
   ]
  },
  {
   "cell_type": "code",
   "execution_count": 181,
   "metadata": {},
   "outputs": [
    {
     "data": {
      "text/plain": [
       "Order Number          0\n",
       "Line Number           0\n",
       "Order Date            0\n",
       "Ship To Address No    0\n",
       "Item Code             0\n",
       "Quantity Ordered      0\n",
       "Quantity Canceled     0\n",
       "dtype: int64"
      ]
     },
     "execution_count": 181,
     "metadata": {},
     "output_type": "execute_result"
    }
   ],
   "source": [
    "cancel.isnull().sum(axis = 0)"
   ]
  },
  {
   "cell_type": "code",
   "execution_count": 182,
   "metadata": {},
   "outputs": [
    {
     "data": {
      "text/plain": [
       "708"
      ]
     },
     "execution_count": 182,
     "metadata": {},
     "output_type": "execute_result"
    }
   ],
   "source": [
    "len(sales['Ship To Address No'].unique())"
   ]
  },
  {
   "cell_type": "code",
   "execution_count": 183,
   "metadata": {},
   "outputs": [
    {
     "data": {
      "text/plain": [
       "605"
      ]
     },
     "execution_count": 183,
     "metadata": {},
     "output_type": "execute_result"
    }
   ],
   "source": [
    "len(cancel['Ship To Address No'].unique())"
   ]
  },
  {
   "cell_type": "code",
   "execution_count": 184,
   "metadata": {},
   "outputs": [],
   "source": [
    "sales.drop('Order No', axis=1, inplace=True)\n",
    "sales.drop('Item Code', axis=1, inplace=True)"
   ]
  },
  {
   "cell_type": "code",
   "execution_count": 185,
   "metadata": {},
   "outputs": [],
   "source": [
    "sales['cancelled'] = cancel['Quantity Canceled']"
   ]
  },
  {
   "cell_type": "code",
   "execution_count": 186,
   "metadata": {},
   "outputs": [],
   "source": [
    "sales = sales.fillna(0)"
   ]
  },
  {
   "cell_type": "code",
   "execution_count": 187,
   "metadata": {},
   "outputs": [
    {
     "data": {
      "text/plain": [
       "Ship To Address No\n",
       "1254612.0    1407.0\n",
       "1254686.0    1510.0\n",
       "1254687.0     356.0\n",
       "1254688.0     358.0\n",
       "1254689.0     206.0\n",
       "Name: Order Qty, dtype: float64"
      ]
     },
     "execution_count": 187,
     "metadata": {},
     "output_type": "execute_result"
    }
   ],
   "source": [
    "Groupby_qty = sales['Order Qty'].groupby(sales['Ship To Address No'], sort = True).sum()\n",
    "Groupby_qty.head()"
   ]
  },
  {
   "cell_type": "code",
   "execution_count": 189,
   "metadata": {},
   "outputs": [
    {
     "data": {
      "text/plain": [
       "Ship To Address No\n",
       "1254612.0     24.0\n",
       "1254686.0     76.0\n",
       "1254687.0    379.0\n",
       "1254688.0    322.0\n",
       "1254689.0    347.0\n",
       "Name: cancelled, dtype: float64"
      ]
     },
     "execution_count": 189,
     "metadata": {},
     "output_type": "execute_result"
    }
   ],
   "source": [
    "Groupby_qtycancel = sales['cancelled'].groupby(sales['Ship To Address No'], sort = True).sum()\n",
    "Groupby_qtycancel.head()"
   ]
  },
  {
   "cell_type": "code",
   "execution_count": 190,
   "metadata": {},
   "outputs": [
    {
     "data": {
      "text/plain": [
       "Ship To Address No\n",
       "1254612.0     1431.0\n",
       "1254686.0     1586.0\n",
       "1254687.0      735.0\n",
       "1254688.0      680.0\n",
       "1254689.0      553.0\n",
       "               ...  \n",
       "43825209.0      60.0\n",
       "43825291.0      45.0\n",
       "43825305.0    2490.0\n",
       "43825307.0    5541.0\n",
       "43825356.0    1480.0\n",
       "Length: 708, dtype: float64"
      ]
     },
     "execution_count": 190,
     "metadata": {},
     "output_type": "execute_result"
    }
   ],
   "source": [
    "sum = Groupby_qty + Groupby_qtycancel\n",
    "sum"
   ]
  },
  {
   "cell_type": "code",
   "execution_count": 191,
   "metadata": {},
   "outputs": [
    {
     "data": {
      "text/html": [
       "<div>\n",
       "<style scoped>\n",
       "    .dataframe tbody tr th:only-of-type {\n",
       "        vertical-align: middle;\n",
       "    }\n",
       "\n",
       "    .dataframe tbody tr th {\n",
       "        vertical-align: top;\n",
       "    }\n",
       "\n",
       "    .dataframe thead th {\n",
       "        text-align: right;\n",
       "    }\n",
       "</style>\n",
       "<table border=\"1\" class=\"dataframe\">\n",
       "  <thead>\n",
       "    <tr style=\"text-align: right;\">\n",
       "      <th></th>\n",
       "      <th>Order Date</th>\n",
       "      <th>Line No</th>\n",
       "      <th>Ship To Address No</th>\n",
       "      <th>Order Qty</th>\n",
       "      <th>Quantity Shipped</th>\n",
       "      <th>cancelled</th>\n",
       "      <th>Total</th>\n",
       "    </tr>\n",
       "  </thead>\n",
       "  <tbody>\n",
       "    <tr>\n",
       "      <th>0</th>\n",
       "      <td>2017-01-03</td>\n",
       "      <td>1</td>\n",
       "      <td>1358538.0</td>\n",
       "      <td>70.0</td>\n",
       "      <td>70.0</td>\n",
       "      <td>1.0</td>\n",
       "      <td>71.0</td>\n",
       "    </tr>\n",
       "    <tr>\n",
       "      <th>1</th>\n",
       "      <td>2017-01-03</td>\n",
       "      <td>1</td>\n",
       "      <td>1254798.0</td>\n",
       "      <td>10.0</td>\n",
       "      <td>10.0</td>\n",
       "      <td>1.0</td>\n",
       "      <td>11.0</td>\n",
       "    </tr>\n",
       "    <tr>\n",
       "      <th>2</th>\n",
       "      <td>2017-01-03</td>\n",
       "      <td>2</td>\n",
       "      <td>1254798.0</td>\n",
       "      <td>10.0</td>\n",
       "      <td>10.0</td>\n",
       "      <td>1.0</td>\n",
       "      <td>11.0</td>\n",
       "    </tr>\n",
       "    <tr>\n",
       "      <th>3</th>\n",
       "      <td>2017-01-03</td>\n",
       "      <td>3</td>\n",
       "      <td>1254798.0</td>\n",
       "      <td>5.0</td>\n",
       "      <td>5.0</td>\n",
       "      <td>1.0</td>\n",
       "      <td>6.0</td>\n",
       "    </tr>\n",
       "    <tr>\n",
       "      <th>4</th>\n",
       "      <td>2017-01-03</td>\n",
       "      <td>4</td>\n",
       "      <td>1254798.0</td>\n",
       "      <td>10.0</td>\n",
       "      <td>10.0</td>\n",
       "      <td>1.0</td>\n",
       "      <td>11.0</td>\n",
       "    </tr>\n",
       "    <tr>\n",
       "      <th>...</th>\n",
       "      <td>...</td>\n",
       "      <td>...</td>\n",
       "      <td>...</td>\n",
       "      <td>...</td>\n",
       "      <td>...</td>\n",
       "      <td>...</td>\n",
       "      <td>...</td>\n",
       "    </tr>\n",
       "    <tr>\n",
       "      <th>28310</th>\n",
       "      <td>2017-02-28</td>\n",
       "      <td>1</td>\n",
       "      <td>43825307.0</td>\n",
       "      <td>380.0</td>\n",
       "      <td>380.0</td>\n",
       "      <td>0.0</td>\n",
       "      <td>380.0</td>\n",
       "    </tr>\n",
       "    <tr>\n",
       "      <th>28311</th>\n",
       "      <td>2017-02-28</td>\n",
       "      <td>1</td>\n",
       "      <td>1255123.0</td>\n",
       "      <td>300.0</td>\n",
       "      <td>300.0</td>\n",
       "      <td>0.0</td>\n",
       "      <td>300.0</td>\n",
       "    </tr>\n",
       "    <tr>\n",
       "      <th>28312</th>\n",
       "      <td>2017-02-28</td>\n",
       "      <td>2</td>\n",
       "      <td>43825307.0</td>\n",
       "      <td>400.0</td>\n",
       "      <td>400.0</td>\n",
       "      <td>0.0</td>\n",
       "      <td>400.0</td>\n",
       "    </tr>\n",
       "    <tr>\n",
       "      <th>28313</th>\n",
       "      <td>2017-02-28</td>\n",
       "      <td>1</td>\n",
       "      <td>43825307.0</td>\n",
       "      <td>300.0</td>\n",
       "      <td>300.0</td>\n",
       "      <td>0.0</td>\n",
       "      <td>300.0</td>\n",
       "    </tr>\n",
       "    <tr>\n",
       "      <th>28314</th>\n",
       "      <td>2017-02-28</td>\n",
       "      <td>2</td>\n",
       "      <td>1255123.0</td>\n",
       "      <td>100.0</td>\n",
       "      <td>100.0</td>\n",
       "      <td>0.0</td>\n",
       "      <td>100.0</td>\n",
       "    </tr>\n",
       "  </tbody>\n",
       "</table>\n",
       "<p>28315 rows × 7 columns</p>\n",
       "</div>"
      ],
      "text/plain": [
       "       Order Date  Line No  Ship To Address No  Order Qty  Quantity Shipped  \\\n",
       "0      2017-01-03        1           1358538.0       70.0              70.0   \n",
       "1      2017-01-03        1           1254798.0       10.0              10.0   \n",
       "2      2017-01-03        2           1254798.0       10.0              10.0   \n",
       "3      2017-01-03        3           1254798.0        5.0               5.0   \n",
       "4      2017-01-03        4           1254798.0       10.0              10.0   \n",
       "...           ...      ...                 ...        ...               ...   \n",
       "28310  2017-02-28        1          43825307.0      380.0             380.0   \n",
       "28311  2017-02-28        1           1255123.0      300.0             300.0   \n",
       "28312  2017-02-28        2          43825307.0      400.0             400.0   \n",
       "28313  2017-02-28        1          43825307.0      300.0             300.0   \n",
       "28314  2017-02-28        2           1255123.0      100.0             100.0   \n",
       "\n",
       "       cancelled  Total  \n",
       "0            1.0   71.0  \n",
       "1            1.0   11.0  \n",
       "2            1.0   11.0  \n",
       "3            1.0    6.0  \n",
       "4            1.0   11.0  \n",
       "...          ...    ...  \n",
       "28310        0.0  380.0  \n",
       "28311        0.0  300.0  \n",
       "28312        0.0  400.0  \n",
       "28313        0.0  300.0  \n",
       "28314        0.0  100.0  \n",
       "\n",
       "[28315 rows x 7 columns]"
      ]
     },
     "execution_count": 191,
     "metadata": {},
     "output_type": "execute_result"
    }
   ],
   "source": [
    "sales['Total'] = sales['Quantity Shipped'] + sales['cancelled']\n",
    "sales"
   ]
  },
  {
   "cell_type": "code",
   "execution_count": 192,
   "metadata": {},
   "outputs": [
    {
     "data": {
      "text/plain": [
       "Ship To Address No\n",
       "1254612.0    1431.0\n",
       "1254686.0    1586.0\n",
       "1254687.0     735.0\n",
       "1254688.0     680.0\n",
       "1254689.0     553.0\n",
       "Name: Total, dtype: float64"
      ]
     },
     "execution_count": 192,
     "metadata": {},
     "output_type": "execute_result"
    }
   ],
   "source": [
    "Groupby_total = sales['Total'].groupby(sales['Ship To Address No'], sort = True).sum()\n",
    "Groupby_total.head()"
   ]
  },
  {
   "cell_type": "code",
   "execution_count": 173,
   "metadata": {},
   "outputs": [
    {
     "data": {
      "text/plain": [
       "Ship To Address No\n",
       "1254612.0      98.322851\n",
       "1254686.0      95.208071\n",
       "1254687.0      48.435374\n",
       "1254688.0      52.647059\n",
       "1254689.0      37.251356\n",
       "                 ...    \n",
       "43825209.0    100.000000\n",
       "43825291.0    100.000000\n",
       "43825305.0    100.000000\n",
       "43825307.0    100.000000\n",
       "43825356.0    100.000000\n",
       "Length: 708, dtype: float64"
      ]
     },
     "execution_count": 173,
     "metadata": {},
     "output_type": "execute_result"
    }
   ],
   "source": [
    "percentage = (Groupby_qty/Groupby_total) *100\n",
    "percentage"
   ]
  },
  {
   "cell_type": "code",
   "execution_count": 197,
   "metadata": {},
   "outputs": [
    {
     "name": "stdout",
     "output_type": "stream",
     "text": [
      "float64\n"
     ]
    }
   ],
   "source": [
    "print(percentage.dtypes)"
   ]
  },
  {
   "cell_type": "markdown",
   "metadata": {},
   "source": [
    "### From above plot we can predict that most of the clients falls in C then B and very few fallin A class"
   ]
  },
  {
   "cell_type": "code",
   "execution_count": 204,
   "metadata": {},
   "outputs": [
    {
     "ename": "TypeError",
     "evalue": "'float' object is not iterable",
     "output_type": "error",
     "traceback": [
      "\u001b[1;31m---------------------------------------------------------------------------\u001b[0m",
      "\u001b[1;31mTypeError\u001b[0m                                 Traceback (most recent call last)",
      "\u001b[1;32m<ipython-input-204-ed1cbd73a77b>\u001b[0m in \u001b[0;36m<module>\u001b[1;34m\u001b[0m\n\u001b[0;32m      1\u001b[0m \u001b[1;31m# performing step 4\u001b[0m\u001b[1;33m\u001b[0m\u001b[1;33m\u001b[0m\u001b[0m\n\u001b[1;32m----> 2\u001b[1;33m \u001b[0mclassified\u001b[0m \u001b[1;33m=\u001b[0m \u001b[0mpd\u001b[0m\u001b[1;33m.\u001b[0m\u001b[0mDataFrame\u001b[0m\u001b[1;33m(\u001b[0m\u001b[1;33m[\u001b[0m\u001b[1;34m\"A\"\u001b[0m \u001b[1;32mif\u001b[0m \u001b[0mx\u001b[0m\u001b[1;33m[\u001b[0m\u001b[1;36m0\u001b[0m\u001b[1;33m]\u001b[0m \u001b[1;33m<\u001b[0m \u001b[1;36m0.8\u001b[0m \u001b[1;32melse\u001b[0m \u001b[1;34m\"B\"\u001b[0m \u001b[1;32mif\u001b[0m \u001b[1;33m(\u001b[0m\u001b[1;33m(\u001b[0m\u001b[0mx\u001b[0m\u001b[1;33m[\u001b[0m\u001b[1;36m0\u001b[0m\u001b[1;33m]\u001b[0m \u001b[1;33m>\u001b[0m \u001b[1;36m0.8\u001b[0m\u001b[1;33m)\u001b[0m \u001b[1;32mand\u001b[0m \u001b[1;33m(\u001b[0m\u001b[0mx\u001b[0m\u001b[1;33m[\u001b[0m\u001b[1;36m0\u001b[0m\u001b[1;33m]\u001b[0m \u001b[1;33m<\u001b[0m \u001b[1;36m0.95\u001b[0m\u001b[1;33m)\u001b[0m\u001b[1;33m)\u001b[0m \u001b[1;32melse\u001b[0m \u001b[1;34m\"C\"\u001b[0m \u001b[1;32mfor\u001b[0m \u001b[0mx\u001b[0m \u001b[1;32min\u001b[0m \u001b[0mpercentage\u001b[0m\u001b[1;33m.\u001b[0m\u001b[0mvar\u001b[0m\u001b[1;33m(\u001b[0m\u001b[1;33m)\u001b[0m\u001b[1;33m]\u001b[0m\u001b[1;33m)\u001b[0m\u001b[1;33m\u001b[0m\u001b[0m\n\u001b[0m\u001b[0;32m      3\u001b[0m \u001b[0mclassified\u001b[0m\u001b[1;33m.\u001b[0m\u001b[0mhead\u001b[0m\u001b[1;33m(\u001b[0m\u001b[1;33m)\u001b[0m\u001b[1;33m\u001b[0m\u001b[0m\n",
      "\u001b[1;31mTypeError\u001b[0m: 'float' object is not iterable"
     ]
    }
   ],
   "source": [
    "# performing step 4\n",
    "classified = pd.DataFrame([\"A\" if x[0] < 0.8 else \"B\" if ((x[0] > 0.8) and (x[0] < 0.95)) else \"C\" for x in percentage.var()])\n",
    "classified.head()"
   ]
  },
  {
   "cell_type": "code",
   "execution_count": 51,
   "metadata": {},
   "outputs": [],
   "source": [
    "#mapping ABC classification values with clients\n",
    "classified.index = Value_Series.index\n",
    "classified.columns = ['value']"
   ]
  },
  {
   "cell_type": "code",
   "execution_count": 52,
   "metadata": {
    "scrolled": true
   },
   "outputs": [
    {
     "name": "stdout",
     "output_type": "stream",
     "text": [
      "                   value\n",
      "Ship To Address No      \n",
      "1850371.0              C\n",
      "1265546.0              C\n",
      "1912451.0              C\n",
      "1510339.0              C\n",
      "1254691.0              C\n",
      "                   value\n",
      "Ship To Address No      \n",
      "1653099.0              C\n",
      "1876884.0              C\n",
      "2247541.0              C\n",
      "1551061.0              C\n",
      "1634362.0              C\n"
     ]
    }
   ],
   "source": [
    "#Checking the item codes and classes\n",
    "print(classified.head())\n",
    "print(classified.tail())"
   ]
  },
  {
   "cell_type": "code",
   "execution_count": 53,
   "metadata": {
    "scrolled": false
   },
   "outputs": [
    {
     "data": {
      "text/plain": [
       "<matplotlib.axes._subplots.AxesSubplot at 0x2254a38b860>"
      ]
     },
     "execution_count": 53,
     "metadata": {},
     "output_type": "execute_result"
    },
    {
     "data": {
      "image/png": "[encoded data removed]",
      "text/plain": [
       "<Figure size 1440x720 with 1 Axes>"
      ]
     },
     "metadata": {},
     "output_type": "display_data"
    }
   ],
   "source": [
    "classified['value'].value_counts().plot(kind='bar')"
   ]
  },
  {
   "cell_type": "markdown",
   "metadata": {},
   "source": [
    "### From above graph we can clearly see that most of clients fall under Category C which is aroun 380 from 708 unque clients. Around 265 clients fall under B category and remaining around 65 cleints fall in A category"
   ]
  },
  {
   "cell_type": "code",
   "execution_count": 54,
   "metadata": {},
   "outputs": [],
   "source": [
    "# saving the output to a file\n",
    "classified.to_csv(\"ABC_classification_Client_Sales.csv\")"
   ]
  }
 ],
 "metadata": {
  "kernelspec": {
   "display_name": "Python 3",
   "language": "python",
   "name": "python3"
  },
  "language_info": {
   "codemirror_mode": {
    "name": "ipython",
    "version": 3
   },
   "file_extension": ".py",
   "mimetype": "text/x-python",
   "name": "python",
   "nbconvert_exporter": "python",
   "pygments_lexer": "ipython3",
   "version": "3.6.5"
  }
 },
 "nbformat": 4,
 "nbformat_minor": 2
}
